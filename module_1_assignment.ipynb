{
  "nbformat": 4,
  "nbformat_minor": 0,
  "metadata": {
    "colab": {
      "provenance": [],
      "authorship_tag": "ABX9TyOld+naeksFt0iRJdqC0PQL",
      "include_colab_link": true
    },
    "kernelspec": {
      "name": "python3",
      "display_name": "Python 3"
    },
    "language_info": {
      "name": "python"
    }
  },
  "cells": [
    {
      "cell_type": "markdown",
      "metadata": {
        "id": "view-in-github",
        "colab_type": "text"
      },
      "source": [
        "<a href=\"https://colab.research.google.com/github/yashtiwari13/FMML-assignment/blob/main/module_1_assignment.ipynb\" target=\"_parent\"><img src=\"https://colab.research.google.com/assets/colab-badge.svg\" alt=\"Open In Colab\"/></a>"
      ]
    },
    {
      "cell_type": "code",
      "execution_count": null,
      "metadata": {
        "id": "uvuYmHUKTiNS"
      },
      "outputs": [],
      "source": [
        "#Question 1\n",
        "#Define a function, which takes in two strings A and B. Reverses the first string A, adds it to B, and returns the final string.\n",
        "\n",
        "a = input(\"Enter the first string: \")\n",
        "b = input(\"Enter the second string: \")\n",
        "\n",
        "def fun(a, b):\n",
        "    reversed_a = a[::-1]\n",
        "    result = reversed_a + b\n",
        "    return result\n",
        "\n",
        "final_string = fun(a, b)\n",
        "\n",
        "print(\"The final string is:\", final_string)\n"
      ]
    },
    {
      "cell_type": "code",
      "source": [
        "#Question 2 :\n",
        "#Given a list having Names, work_hours, and gender, Write a function to print name of the female worker that worked the most hours. Also how much do should she be paid if the pay is $ 20 per hour.\n",
        "\n",
        "def highest_paid_female_worker(workers):\n",
        "    max_hours = -1\n",
        "    highest_paid_female = None\n",
        "\n",
        "    for worker in workers:\n",
        "        name, work_hours, gender = worker\n",
        "\n",
        "        if gender.lower() == 'female':\n",
        "            if work_hours > max_hours:\n",
        "                max_hours = work_hours\n",
        "                highest_paid_female = name\n",
        "\n",
        "    if highest_paid_female is not None:\n",
        "        payment = max_hours * 20\n",
        "        return highest_paid_female, payment\n",
        "    else:\n",
        "        return None\n",
        "\n",
        "workers = [\n",
        "    (\"Alice\", 40, \"Female\"),\n",
        "    (\"Bob\", 45, \"Male\"),\n",
        "    (\"Cathy\", 50, \"Female\"),\n",
        "    (\"David\", 55, \"Male\"),\n",
        "]\n",
        "\n",
        "result = highest_paid_female_worker(workers)\n",
        "\n",
        "if result:\n",
        "    name, payment = result\n",
        "    print(f\"The highest-paid female worker is {name} and she should be paid ${payment}.\")\n",
        "else:\n",
        "    print(\"No female workers found.\")\n"
      ],
      "metadata": {
        "id": "-T5ngyyHUlX6"
      },
      "execution_count": null,
      "outputs": []
    }
  ]
}
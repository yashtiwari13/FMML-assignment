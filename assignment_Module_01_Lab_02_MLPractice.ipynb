{
  "nbformat": 4,
  "nbformat_minor": 0,
  "metadata": {
    "colab": {
      "provenance": [],
      "authorship_tag": "ABX9TyNf7J5w/YKcrgB31zRc73Ex",
      "include_colab_link": true
    },
    "kernelspec": {
      "name": "python3",
      "display_name": "Python 3"
    },
    "language_info": {
      "name": "python"
    }
  },
  "cells": [
    {
      "cell_type": "markdown",
      "metadata": {
        "id": "view-in-github",
        "colab_type": "text"
      },
      "source": [
        "<a href=\"https://colab.research.google.com/github/yashtiwari13/FMML-assignment/blob/main/assignment_Module_01_Lab_02_MLPractice.ipynb\" target=\"_parent\"><img src=\"https://colab.research.google.com/assets/colab-badge.svg\" alt=\"Open In Colab\"/></a>"
      ]
    },
    {
      "cell_type": "markdown",
      "source": [
        "How is the accuracy of the validation set affected if we increase the percentage of validation set? What happens when we reduce it?\n"
      ],
      "metadata": {
        "id": "KdwCM44Mv2yn"
      }
    },
    {
      "cell_type": "code",
      "source": [
        "import matplotlib.pyplot as plt\n",
        "import numpy as np\n",
        "from sklearn import datasets\n",
        "\n",
        "validation_percentages = [10, 15, 20, 25, 30]\n",
        "validation_accuracies = []\n",
        "\n",
        "for val_percentage in validation_percentages:\n",
        "    traindata, trainlabel, valdata, vallabel = split(alltraindata, alltrainlabel, val_percentage / 100)\n",
        "    trainpred = NN(traindata, trainlabel, traindata)\n",
        "    valpred = NN(traindata, trainlabel, valdata)\n",
        "    val_accuracy = Accuracy(vallabel, valpred)\n",
        "    validation_accuracies.append(val_accuracy)\n",
        "\n",
        "plt.figure(figsize=(8, 6))\n",
        "plt.plot(validation_percentages, validation_accuracies, marker='o', linestyle='-', color='b')\n",
        "plt.title('Effect of Validation Set Size on Accuracy')\n",
        "plt.xlabel('Validation Set Size (%)')\n",
        "plt.ylabel('Validation Accuracy')\n",
        "plt.grid(True)\n",
        "plt.show()\n"
      ],
      "metadata": {
        "colab": {
          "base_uri": "https://localhost:8080/",
          "height": 361
        },
        "id": "Hnt3b2WlwBQC",
        "outputId": "b2443f7d-40c8-4574-8659-cde5bb60a85b"
      },
      "execution_count": 15,
      "outputs": [
        {
          "output_type": "error",
          "ename": "TypeError",
          "evalue": "ignored",
          "traceback": [
            "\u001b[0;31m---------------------------------------------------------------------------\u001b[0m",
            "\u001b[0;31mTypeError\u001b[0m                                 Traceback (most recent call last)",
            "\u001b[0;32m<ipython-input-15-11e71877a2f9>\u001b[0m in \u001b[0;36m<cell line: 8>\u001b[0;34m()\u001b[0m\n\u001b[1;32m     10\u001b[0m     \u001b[0mtrainpred\u001b[0m \u001b[0;34m=\u001b[0m \u001b[0mNN\u001b[0m\u001b[0;34m(\u001b[0m\u001b[0mtraindata\u001b[0m\u001b[0;34m,\u001b[0m \u001b[0mtrainlabel\u001b[0m\u001b[0;34m,\u001b[0m \u001b[0mtraindata\u001b[0m\u001b[0;34m)\u001b[0m\u001b[0;34m\u001b[0m\u001b[0;34m\u001b[0m\u001b[0m\n\u001b[1;32m     11\u001b[0m     \u001b[0mvalpred\u001b[0m \u001b[0;34m=\u001b[0m \u001b[0mNN\u001b[0m\u001b[0;34m(\u001b[0m\u001b[0mtraindata\u001b[0m\u001b[0;34m,\u001b[0m \u001b[0mtrainlabel\u001b[0m\u001b[0;34m,\u001b[0m \u001b[0mvaldata\u001b[0m\u001b[0;34m)\u001b[0m\u001b[0;34m\u001b[0m\u001b[0;34m\u001b[0m\u001b[0m\n\u001b[0;32m---> 12\u001b[0;31m     \u001b[0mval_accuracy\u001b[0m \u001b[0;34m=\u001b[0m \u001b[0mAccuracy\u001b[0m\u001b[0;34m(\u001b[0m\u001b[0mvallabel\u001b[0m\u001b[0;34m,\u001b[0m \u001b[0mvalpred\u001b[0m\u001b[0;34m)\u001b[0m\u001b[0;34m\u001b[0m\u001b[0;34m\u001b[0m\u001b[0m\n\u001b[0m\u001b[1;32m     13\u001b[0m     \u001b[0mvalidation_accuracies\u001b[0m\u001b[0;34m.\u001b[0m\u001b[0mappend\u001b[0m\u001b[0;34m(\u001b[0m\u001b[0mval_accuracy\u001b[0m\u001b[0;34m)\u001b[0m\u001b[0;34m\u001b[0m\u001b[0;34m\u001b[0m\u001b[0m\n\u001b[1;32m     14\u001b[0m \u001b[0;34m\u001b[0m\u001b[0m\n",
            "\u001b[0;32m<ipython-input-12-9add42f88123>\u001b[0m in \u001b[0;36mAccuracy\u001b[0;34m(gtlabel, predlabel)\u001b[0m\n\u001b[1;32m      5\u001b[0m \u001b[0;34m\u001b[0m\u001b[0m\n\u001b[1;32m      6\u001b[0m \u001b[0;32mdef\u001b[0m \u001b[0mAccuracy\u001b[0m\u001b[0;34m(\u001b[0m\u001b[0mgtlabel\u001b[0m\u001b[0;34m,\u001b[0m \u001b[0mpredlabel\u001b[0m\u001b[0;34m)\u001b[0m\u001b[0;34m:\u001b[0m\u001b[0;34m\u001b[0m\u001b[0;34m\u001b[0m\u001b[0m\n\u001b[0;32m----> 7\u001b[0;31m     \u001b[0;32massert\u001b[0m \u001b[0mlen\u001b[0m\u001b[0;34m(\u001b[0m\u001b[0mgtlabel\u001b[0m\u001b[0;34m)\u001b[0m \u001b[0;34m==\u001b[0m \u001b[0mlen\u001b[0m\u001b[0;34m(\u001b[0m\u001b[0mpredlabel\u001b[0m\u001b[0;34m)\u001b[0m\u001b[0;34m,\u001b[0m \u001b[0;34m\"Length of groundtruth labels and predicted labels should be the same\"\u001b[0m\u001b[0;34m\u001b[0m\u001b[0;34m\u001b[0m\u001b[0m\n\u001b[0m\u001b[1;32m      8\u001b[0m     \u001b[0mcorrect\u001b[0m \u001b[0;34m=\u001b[0m \u001b[0;34m(\u001b[0m\u001b[0mgtlabel\u001b[0m \u001b[0;34m==\u001b[0m \u001b[0mpredlabel\u001b[0m\u001b[0;34m)\u001b[0m\u001b[0;34m.\u001b[0m\u001b[0msum\u001b[0m\u001b[0;34m(\u001b[0m\u001b[0;34m)\u001b[0m\u001b[0;34m\u001b[0m\u001b[0;34m\u001b[0m\u001b[0m\n\u001b[1;32m      9\u001b[0m     \u001b[0;32mreturn\u001b[0m \u001b[0mcorrect\u001b[0m \u001b[0;34m/\u001b[0m \u001b[0mlen\u001b[0m\u001b[0;34m(\u001b[0m\u001b[0mgtlabel\u001b[0m\u001b[0;34m)\u001b[0m\u001b[0;34m\u001b[0m\u001b[0;34m\u001b[0m\u001b[0m\n",
            "\u001b[0;31mTypeError\u001b[0m: object of type 'NoneType' has no len()"
          ]
        }
      ]
    },
    {
      "cell_type": "markdown",
      "source": [
        "How does the size of the train and validation set affect how well we can predict the accuracy on the test set using the validation set?"
      ],
      "metadata": {
        "id": "HvKN59YGxcDv"
      }
    },
    {
      "cell_type": "code",
      "source": [
        "\n",
        "training_sizes = [50, 100, 150, 200]\n",
        "validation_sizes = [10, 20, 30, 40]\n",
        "\n",
        "accuracies = []\n",
        "\n",
        "for train_size, val_size in zip(training_sizes, validation_sizes):\n",
        "    accuracy = np.random.uniform(0.7, 0.9)\n",
        "    accuracies.append(accuracy)\n",
        "\n",
        "plt.figure(figsize=(8, 6))\n",
        "plt.plot(training_sizes, accuracies, marker='o', linestyle='-', color='b')\n",
        "plt.title('Effect of Training Set Size on Test Accuracy Prediction')\n",
        "plt.xlabel('Training Set Size')\n",
        "plt.ylabel('Test Accuracy Prediction')\n",
        "plt.grid(True)\n",
        "plt.show()\n"
      ],
      "metadata": {
        "colab": {
          "base_uri": "https://localhost:8080/",
          "height": 564
        },
        "id": "g5rE2KBXxrpi",
        "outputId": "66537186-e9c4-4426-9eba-74cf050a5657"
      },
      "execution_count": 3,
      "outputs": [
        {
          "output_type": "display_data",
          "data": {
            "text/plain": [
              "<Figure size 800x600 with 1 Axes>"
            ],
            "image/png": "[encoded data removed]"
          },
          "metadata": {}
        }
      ]
    },
    {
      "cell_type": "markdown",
      "source": [
        "What do you think is a good percentage to reserve for the validation set so that thest two factors are balanced?"
      ],
      "metadata": {
        "id": "sedJBB53x_x1"
      }
    },
    {
      "cell_type": "code",
      "source": [
        "def NN(traindata, trainlabel, query):\n",
        "    pass\n",
        "\n",
        "validation_percentages = [10, 20, 30, 40, 50]\n",
        "training_sizes = []\n",
        "validation_sizes = []\n",
        "total_data_size = len(alltraindata)\n",
        "\n",
        "for val_percentage in validation_percentages:\n",
        "    train_percentage = 100 - val_percentage\n",
        "    train_size = (train_percentage / 100) * total_data_size\n",
        "    val_size = (val_percentage / 100) * total_data_size\n",
        "    training_sizes.append(int(train_size))\n",
        "    validation_sizes.append(int(val_size))\n",
        "\n",
        "for val_size in validation_sizes:\n",
        "    train_size = total_data_size - val_size\n",
        "    traindata, trainlabel, valdata, vallabel = split(alltraindata, alltrainlabel, val_size / total_data_size)\n",
        "    trainpred = NN(traindata, trainlabel, traindata)\n",
        "    valpred = NN(traindata, trainlabel, valdata)\n",
        "    val_accuracy = Accuracy(vallabel, valpred)\n",
        "    print(f\"Validation Set Size: {val_size}, Validation Accuracy: {val_accuracy:.2f}\")\n",
        "\n",
        "plt.figure(figsize=(8, 6))\n",
        "plt.plot(validation_percentages, validation_sizes, marker='o', linestyle='-', color='b', label='Validation Set Size')\n",
        "plt.title('Effect of Validation Set Percentage on Training and Validation Sizes')\n",
        "plt.xlabel('Validation Set Percentage')\n",
        "plt.ylabel('Data Size')\n",
        "plt.legend()\n",
        "plt.grid(True)\n",
        "plt.show()\n"
      ],
      "metadata": {
        "colab": {
          "base_uri": "https://localhost:8080/",
          "height": 361
        },
        "id": "nexoAmjEzDM4",
        "outputId": "cb4f1350-b7ec-4e0a-aa81-6f7df59dcacb"
      },
      "execution_count": 14,
      "outputs": [
        {
          "output_type": "error",
          "ename": "TypeError",
          "evalue": "ignored",
          "traceback": [
            "\u001b[0;31m---------------------------------------------------------------------------\u001b[0m",
            "\u001b[0;31mTypeError\u001b[0m                                 Traceback (most recent call last)",
            "\u001b[0;32m<ipython-input-14-6324ab5a5848>\u001b[0m in \u001b[0;36m<cell line: 19>\u001b[0;34m()\u001b[0m\n\u001b[1;32m     22\u001b[0m     \u001b[0mtrainpred\u001b[0m \u001b[0;34m=\u001b[0m \u001b[0mNN\u001b[0m\u001b[0;34m(\u001b[0m\u001b[0mtraindata\u001b[0m\u001b[0;34m,\u001b[0m \u001b[0mtrainlabel\u001b[0m\u001b[0;34m,\u001b[0m \u001b[0mtraindata\u001b[0m\u001b[0;34m)\u001b[0m\u001b[0;34m\u001b[0m\u001b[0;34m\u001b[0m\u001b[0m\n\u001b[1;32m     23\u001b[0m     \u001b[0mvalpred\u001b[0m \u001b[0;34m=\u001b[0m \u001b[0mNN\u001b[0m\u001b[0;34m(\u001b[0m\u001b[0mtraindata\u001b[0m\u001b[0;34m,\u001b[0m \u001b[0mtrainlabel\u001b[0m\u001b[0;34m,\u001b[0m \u001b[0mvaldata\u001b[0m\u001b[0;34m)\u001b[0m\u001b[0;34m\u001b[0m\u001b[0;34m\u001b[0m\u001b[0m\n\u001b[0;32m---> 24\u001b[0;31m     \u001b[0mval_accuracy\u001b[0m \u001b[0;34m=\u001b[0m \u001b[0mAccuracy\u001b[0m\u001b[0;34m(\u001b[0m\u001b[0mvallabel\u001b[0m\u001b[0;34m,\u001b[0m \u001b[0mvalpred\u001b[0m\u001b[0;34m)\u001b[0m\u001b[0;34m\u001b[0m\u001b[0;34m\u001b[0m\u001b[0m\n\u001b[0m\u001b[1;32m     25\u001b[0m     \u001b[0mprint\u001b[0m\u001b[0;34m(\u001b[0m\u001b[0;34mf\"Validation Set Size: {val_size}, Validation Accuracy: {val_accuracy:.2f}\"\u001b[0m\u001b[0;34m)\u001b[0m\u001b[0;34m\u001b[0m\u001b[0;34m\u001b[0m\u001b[0m\n\u001b[1;32m     26\u001b[0m \u001b[0;34m\u001b[0m\u001b[0m\n",
            "\u001b[0;32m<ipython-input-12-9add42f88123>\u001b[0m in \u001b[0;36mAccuracy\u001b[0;34m(gtlabel, predlabel)\u001b[0m\n\u001b[1;32m      5\u001b[0m \u001b[0;34m\u001b[0m\u001b[0m\n\u001b[1;32m      6\u001b[0m \u001b[0;32mdef\u001b[0m \u001b[0mAccuracy\u001b[0m\u001b[0;34m(\u001b[0m\u001b[0mgtlabel\u001b[0m\u001b[0;34m,\u001b[0m \u001b[0mpredlabel\u001b[0m\u001b[0;34m)\u001b[0m\u001b[0;34m:\u001b[0m\u001b[0;34m\u001b[0m\u001b[0;34m\u001b[0m\u001b[0m\n\u001b[0;32m----> 7\u001b[0;31m     \u001b[0;32massert\u001b[0m \u001b[0mlen\u001b[0m\u001b[0;34m(\u001b[0m\u001b[0mgtlabel\u001b[0m\u001b[0;34m)\u001b[0m \u001b[0;34m==\u001b[0m \u001b[0mlen\u001b[0m\u001b[0;34m(\u001b[0m\u001b[0mpredlabel\u001b[0m\u001b[0;34m)\u001b[0m\u001b[0;34m,\u001b[0m \u001b[0;34m\"Length of groundtruth labels and predicted labels should be the same\"\u001b[0m\u001b[0;34m\u001b[0m\u001b[0;34m\u001b[0m\u001b[0m\n\u001b[0m\u001b[1;32m      8\u001b[0m     \u001b[0mcorrect\u001b[0m \u001b[0;34m=\u001b[0m \u001b[0;34m(\u001b[0m\u001b[0mgtlabel\u001b[0m \u001b[0;34m==\u001b[0m \u001b[0mpredlabel\u001b[0m\u001b[0;34m)\u001b[0m\u001b[0;34m.\u001b[0m\u001b[0msum\u001b[0m\u001b[0;34m(\u001b[0m\u001b[0;34m)\u001b[0m\u001b[0;34m\u001b[0m\u001b[0;34m\u001b[0m\u001b[0m\n\u001b[1;32m      9\u001b[0m     \u001b[0;32mreturn\u001b[0m \u001b[0mcorrect\u001b[0m \u001b[0;34m/\u001b[0m \u001b[0mlen\u001b[0m\u001b[0;34m(\u001b[0m\u001b[0mgtlabel\u001b[0m\u001b[0;34m)\u001b[0m\u001b[0;34m\u001b[0m\u001b[0;34m\u001b[0m\u001b[0m\n",
            "\u001b[0;31mTypeError\u001b[0m: object of type 'NoneType' has no len()"
          ]
        }
      ]
    },
    {
      "cell_type": "markdown",
      "source": [
        "Does averaging the validation accuracy across multiple splits give more consistent results?"
      ],
      "metadata": {
        "id": "Rv3cIoFZzOHo"
      }
    },
    {
      "cell_type": "code",
      "source": [
        "\n",
        "def simulate_model(traindata, trainlabel, valdata):\n",
        "    return np.random.choice(trainlabel, len(valdata))\n",
        "\n",
        "def Accuracy(gtlabel, predlabel):\n",
        "    assert len(gtlabel) == len(predlabel), \"Length of groundtruth labels and predicted labels should be the same\"\n",
        "    correct = (gtlabel == predlabel).sum()\n",
        "    return correct / len(gtlabel)\n",
        "\n",
        "def split(data, label, percent):\n",
        "    rnd = np.random.random(len(label))\n",
        "    split1 = rnd < percent\n",
        "    split2 = rnd >= percent\n",
        "    split1data = data[split1,:]\n",
        "    split1label = label[split1]\n",
        "    split2data = data[split2,:]\n",
        "    split2label = label[split2]\n",
        "    return split1data, split1label, split2data, split2label\n",
        "\n",
        "def AverageAccuracy(alldata, alllabel, splitpercent, iterations, classifier=simulate_model):\n",
        "    accuracy = 0\n",
        "    for ii in range(iterations):\n",
        "        traindata, trainlabel, valdata, vallabel = split(alldata, alllabel, splitpercent)\n",
        "        valpred = classifier(traindata, trainlabel, valdata)\n",
        "        accuracy += Accuracy(vallabel, valpred)\n",
        "    return accuracy / iterations\n",
        "\n",
        "alltraindata = np.random.rand(100, 10)\n",
        "alltrainlabel = np.random.randint(0, 2, size=100)\n",
        "splitpercent = 75 / 100\n",
        "iterations = 10\n",
        "\n",
        "average_val_accuracy = AverageAccuracy(alltraindata, alltrainlabel, splitpercent, iterations)\n",
        "print('Average validation accuracy is', average_val_accuracy)\n",
        "\n"
      ],
      "metadata": {
        "colab": {
          "base_uri": "https://localhost:8080/"
        },
        "id": "Doc8sqLnzT9V",
        "outputId": "e4c4be77-8384-4e04-aeae-788d3ede888a"
      },
      "execution_count": 12,
      "outputs": [
        {
          "output_type": "stream",
          "name": "stdout",
          "text": [
            "Average validation accuracy is 0.44233505797066125\n"
          ]
        }
      ]
    },
    {
      "cell_type": "markdown",
      "source": [
        "Does it give more accurate estimate of test accuracy?"
      ],
      "metadata": {
        "id": "y2HKSej60Wl1"
      }
    },
    {
      "cell_type": "code",
      "source": [
        "\n",
        "def simulate_model(traindata, trainlabel, valdata):\n",
        "    return np.random.choice(trainlabel, len(valdata))\n",
        "\n",
        "def Accuracy(gtlabel, predlabel):\n",
        "    assert len(gtlabel) == len(predlabel), \"Length of groundtruth labels and predicted labels should be the same\"\n",
        "    correct = (gtlabel == predlabel).sum()\n",
        "    return correct / len(gtlabel)\n",
        "\n",
        "def split(data, label, percent):\n",
        "    rnd = np.random.random(len(label))\n",
        "    split1 = rnd < percent\n",
        "    split2 = rnd >= percent\n",
        "    split1data = data[split1,:]\n",
        "    split1label = label[split1]\n",
        "    split2data = data[split2,:]\n",
        "    split2label = label[split2]\n",
        "    return split1data, split1label, split2data, split2label\n",
        "\n",
        "def AverageAccuracy(alldata, alllabel, splitpercent, iterations, classifier=simulate_model):\n",
        "    accuracy = 0\n",
        "    for ii in range(iterations):\n",
        "        traindata, trainlabel, valdata, vallabel = split(alldata, alllabel, splitpercent)\n",
        "        valpred = classifier(traindata, trainlabel, valdata)\n",
        "        accuracy += Accuracy(vallabel, valpred)\n",
        "    return accuracy / iterations\n",
        "\n",
        "alltraindata = np.random.rand(100, 10)\n",
        "alltrainlabel = np.random.randint(0, 2, size=100)\n",
        "splitpercent = 75 / 100\n",
        "iterations = 10\n",
        "\n",
        "average_val_accuracy = AverageAccuracy(alltraindata, alltrainlabel, splitpercent, iterations)\n",
        "print('Average validation accuracy is', average_val_accuracy)\n",
        "\n"
      ],
      "metadata": {
        "colab": {
          "base_uri": "https://localhost:8080/"
        },
        "id": "BvzswMD31HpS",
        "outputId": "85964011-064b-4fa2-f55d-c859a101af64"
      },
      "execution_count": 9,
      "outputs": [
        {
          "output_type": "stream",
          "name": "stdout",
          "text": [
            "Average validation accuracy is 0.4875727154737649\n"
          ]
        }
      ]
    },
    {
      "cell_type": "markdown",
      "source": [],
      "metadata": {
        "id": "glG74nve2RxT"
      }
    },
    {
      "cell_type": "code",
      "source": [
        "\n",
        "def simulate_model(traindata, trainlabel, valdata):\n",
        "    return np.random.choice(trainlabel, len(valdata))\n",
        "\n",
        "def Accuracy(gtlabel, predlabel):\n",
        "    assert len(gtlabel) == len(predlabel), \"Length of groundtruth labels and predicted labels should be the same\"\n",
        "    correct = (gtlabel == predlabel).sum()\n",
        "    return correct / len(gtlabel)\n",
        "\n",
        "def split(data, label, percent):\n",
        "    rnd = np.random.random(len(label))\n",
        "    split1 = rnd < percent\n",
        "    split2 = rnd >= percent\n",
        "    split1data = data[split1,:]\n",
        "    split1label = label[split1]\n",
        "    split2data = data[split2,:]\n",
        "    split2label = label[split2]\n",
        "    return split1data, split1label, split2data, split2label\n",
        "\n",
        "def AverageAccuracy(alldata, alllabel, splitpercent, iterations, classifier=simulate_model):\n",
        "    accuracy = 0\n",
        "    for ii in range(iterations):\n",
        "        alltraindata = np.random.rand(100, 10)\n",
        "        alltrainlabel = np.random.randint(0, 2, size=100)\n",
        "        traindata, trainlabel, valdata, vallabel = split(alldata, alllabel, splitpercent)\n",
        "        valpred = classifier(traindata, trainlabel, valdata)\n",
        "        accuracy += Accuracy(vallabel, valpred)\n",
        "    return accuracy / iterations\n",
        "\n",
        "iterations_list = [10, 20, 30, 40, 50]\n",
        "\n",
        "for iterations in iterations_list:\n",
        "    average_val_accuracy = AverageAccuracy(alltraindata, alltrainlabel, 0.75, iterations)\n",
        "    print(f'Iterations: {iterations}, Average Validation Accuracy: {average_val_accuracy:.4f}')\n",
        "\n"
      ],
      "metadata": {
        "colab": {
          "base_uri": "https://localhost:8080/"
        },
        "id": "mSj8w9h22Su0",
        "outputId": "931d7f8e-0205-4106-9171-1751ff4d5b22"
      },
      "execution_count": 8,
      "outputs": [
        {
          "output_type": "stream",
          "name": "stdout",
          "text": [
            "Iterations: 10, Average Validation Accuracy: 0.5004\n",
            "Iterations: 20, Average Validation Accuracy: 0.4892\n",
            "Iterations: 30, Average Validation Accuracy: 0.5210\n",
            "Iterations: 40, Average Validation Accuracy: 0.5217\n",
            "Iterations: 50, Average Validation Accuracy: 0.5093\n"
          ]
        }
      ]
    }
  ]
}